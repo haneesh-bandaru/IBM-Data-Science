{
  "nbformat": 4,
  "nbformat_minor": 0,
  "metadata": {
    "colab": {
      "provenance": []
    },
    "kernelspec": {
      "name": "python3",
      "display_name": "Python 3"
    },
    "language_info": {
      "name": "python"
    }
  },
  "cells": [
    {
      "cell_type": "markdown",
      "source": [
        "# Data Science Tools and Ecosystem"
      ],
      "metadata": {
        "id": "g15DvJOVPIuV"
      }
    },
    {
      "cell_type": "markdown",
      "source": [
        "In this notebook, Data Science Tools and Ecosystem are summarized."
      ],
      "metadata": {
        "id": "YjZFoED9PgQ2"
      }
    },
    {
      "cell_type": "markdown",
      "source": [
        "#Objectives:"
      ],
      "metadata": {
        "id": "hzCpggyJQvQS"
      }
    },
    {
      "cell_type": "markdown",
      "source": [
        "###List popular languages for Data Science:\n",
        "\n",
        ".Python\n",
        "\n",
        ".R\n",
        "\n",
        ".SQL\n"
      ],
      "metadata": {
        "id": "BPeG8XP1RG-h"
      }
    },
    {
      "cell_type": "markdown",
      "source": [
        "Some of the popular languages that Data Scientists use are:\n",
        "\n",
        "1.python\n",
        "\n",
        "2.R language\n",
        "\n",
        "3.SQL"
      ],
      "metadata": {
        "id": "yJvasYPEPjW9"
      }
    },
    {
      "cell_type": "markdown",
      "source": [
        "Some of the popular libraries that Data Scientists use are:\n",
        "\n",
        "1.Numpy\n",
        "\n",
        "2.Pandas\n",
        "\n",
        "3.skit learn"
      ],
      "metadata": {
        "id": "q7MKd9XdPpyO"
      }
    },
    {
      "cell_type": "markdown",
      "source": [
        "Data Science Tools:\n",
        "\n",
        "|  Data Science Tools|\n",
        "| --- |\n",
        "| R |\n",
        "| Python |\n",
        "| Juypter"
      ],
      "metadata": {
        "id": "dkZy0LCTP0-T"
      }
    },
    {
      "cell_type": "markdown",
      "source": [
        "###Below are a few examples of evaluating arithmetic expressions in Python"
      ],
      "metadata": {
        "id": "2E49OpkHP9Zb"
      }
    },
    {
      "cell_type": "code",
      "source": [
        "#This a simple arithmetic expression to mutiply then add integers.\n",
        "a = (3*4)+5\n",
        "print(a)"
      ],
      "metadata": {
        "colab": {
          "base_uri": "https://localhost:8080/"
        },
        "id": "PaNSLy94QBXb",
        "outputId": "4978c9eb-b9b1-45f6-f402-56fbcfd2be3c"
      },
      "execution_count": 1,
      "outputs": [
        {
          "output_type": "stream",
          "name": "stdout",
          "text": [
            "17\n"
          ]
        }
      ]
    },
    {
      "cell_type": "code",
      "source": [
        "#This will convert 200 minutes to hours by diving by 60\n",
        "minutes = 200\n",
        "hours = minutes/60\n",
        "print(hours)\n"
      ],
      "metadata": {
        "colab": {
          "base_uri": "https://localhost:8080/"
        },
        "id": "JuTrPZmsQPqa",
        "outputId": "95ba7b40-1041-4861-c71d-e76494403b7b"
      },
      "execution_count": 2,
      "outputs": [
        {
          "output_type": "stream",
          "name": "stdout",
          "text": [
            "3.3333333333333335\n"
          ]
        }
      ]
    },
    {
      "cell_type": "markdown",
      "source": [
        "##Author:\n",
        "Haneesh Bandaru"
      ],
      "metadata": {
        "id": "voWw4pU5Ry4B"
      }
    }
  ]
}